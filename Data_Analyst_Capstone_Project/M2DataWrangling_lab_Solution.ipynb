{
  "cells": [
    {
      "cell_type": "markdown",
      "metadata": {
        "id": "4Vyp7nzYMx9H"
      },
      "source": [
        "<p style=\"text-align:center\">\n",
        "    <a href=\"https://skills.network/?utm_medium=Exinfluencer&utm_source=Exinfluencer&utm_content=000026UJ&utm_term=10006555&utm_id=NA-SkillsNetwork-Channel-SkillsNetworkCoursesIBMDA0321ENSkillsNetwork928-2022-01-01\" target=\"_blank\">\n",
        "    <img src=\"https://cf-courses-data.s3.us.cloud-object-storage.appdomain.cloud/assets/logos/SN_web_lightmode.png\" width=\"200\" alt=\"Skills Network Logo\"  />\n",
        "    </a>\n",
        "</p>\n"
      ]
    },
    {
      "cell_type": "markdown",
      "metadata": {
        "id": "EVR35GnTMx9N"
      },
      "source": [
        "# **Data Wrangling Lab**\n"
      ]
    },
    {
      "cell_type": "markdown",
      "metadata": {
        "id": "WKxfjxC3Mx9N"
      },
      "source": [
        "Estimated time needed: **45 to 60** minutes\n"
      ]
    },
    {
      "cell_type": "markdown",
      "metadata": {
        "id": "zQUseyc_Mx9O"
      },
      "source": [
        "In this assignment you will be performing data wrangling.\n"
      ]
    },
    {
      "cell_type": "markdown",
      "metadata": {
        "id": "7gJXXg7oMx9O"
      },
      "source": [
        "## Objectives\n"
      ]
    },
    {
      "cell_type": "markdown",
      "metadata": {
        "id": "jDPNsEXTMx9P"
      },
      "source": [
        "In this lab you will perform the following:\n"
      ]
    },
    {
      "cell_type": "markdown",
      "metadata": {
        "id": "qfx1YHk8Mx9P"
      },
      "source": [
        "-   Identify duplicate values in the dataset.\n",
        "\n",
        "-   Remove duplicate values from the dataset.\n",
        "\n",
        "-   Identify missing values in the dataset.\n",
        "\n",
        "-   Impute the missing values in the dataset.\n",
        "\n",
        "-   Normalize data in the dataset.\n"
      ]
    },
    {
      "cell_type": "markdown",
      "metadata": {
        "id": "2b8wMTMDMx9Q"
      },
      "source": [
        "<hr>\n"
      ]
    },
    {
      "cell_type": "markdown",
      "metadata": {
        "id": "ZUay896OMx9R"
      },
      "source": [
        "## Hands on Lab\n"
      ]
    },
    {
      "cell_type": "markdown",
      "metadata": {
        "id": "vEsYa2urMx9R"
      },
      "source": [
        "Import pandas module.\n"
      ]
    },
    {
      "cell_type": "code",
      "execution_count": 1,
      "metadata": {
        "id": "EwWrDOnVMx9S"
      },
      "outputs": [],
      "source": [
        "import pandas as pd"
      ]
    },
    {
      "cell_type": "markdown",
      "metadata": {
        "id": "E33leDURMx9T"
      },
      "source": [
        "Load the dataset into a dataframe.\n"
      ]
    },
    {
      "cell_type": "code",
      "execution_count": 2,
      "metadata": {
        "id": "6iOKNxTtMx9T"
      },
      "outputs": [],
      "source": [
        "df = pd.read_csv(\"https://cf-courses-data.s3.us.cloud-object-storage.appdomain.cloud/IBM-DA0321EN-SkillsNetwork/LargeData/m1_survey_data.csv\")"
      ]
    },
    {
      "cell_type": "markdown",
      "metadata": {
        "id": "WM9S6OhDMx9U"
      },
      "source": [
        "## Finding duplicates\n"
      ]
    },
    {
      "cell_type": "markdown",
      "metadata": {
        "id": "v2OMrj66Mx9U"
      },
      "source": [
        "In this section you will identify duplicate values in the dataset.\n"
      ]
    },
    {
      "cell_type": "markdown",
      "metadata": {
        "id": "PYEsdsW5Mx9U"
      },
      "source": [
        " Find how many duplicate rows exist in the dataframe.\n"
      ]
    },
    {
      "cell_type": "code",
      "execution_count": 9,
      "metadata": {
        "colab": {
          "base_uri": "https://localhost:8080/"
        },
        "id": "W3y2ohw8Mx9V",
        "outputId": "cfbed082-61fb-4b7a-d106-a76d8a28c19f"
      },
      "outputs": [
        {
          "output_type": "execute_result",
          "data": {
            "text/plain": [
              "154"
            ]
          },
          "metadata": {},
          "execution_count": 9
        }
      ],
      "source": [
        "# your code goes here\n",
        "df.duplicated().sum()\n"
      ]
    },
    {
      "cell_type": "markdown",
      "metadata": {
        "id": "qXGHg87hMx9V"
      },
      "source": [
        "## Removing duplicates\n"
      ]
    },
    {
      "cell_type": "markdown",
      "metadata": {
        "id": "NAWzpRSIMx9V"
      },
      "source": [
        "Remove the duplicate rows from the dataframe.\n"
      ]
    },
    {
      "cell_type": "code",
      "execution_count": 10,
      "metadata": {
        "id": "2dtpHnLOMx9V"
      },
      "outputs": [],
      "source": [
        "# your code goes here\n",
        "df.drop_duplicates(inplace=True)\n"
      ]
    },
    {
      "cell_type": "markdown",
      "metadata": {
        "id": "g2QcHzlsMx9W"
      },
      "source": [
        "Verify if duplicates were actually dropped.\n"
      ]
    },
    {
      "cell_type": "code",
      "execution_count": 14,
      "metadata": {
        "colab": {
          "base_uri": "https://localhost:8080/"
        },
        "id": "-9g1dthiMx9W",
        "outputId": "e9ade0e6-a0b3-4121-ad64-e1df48b75458"
      },
      "outputs": [
        {
          "output_type": "stream",
          "name": "stdout",
          "text": [
            "<class 'pandas.core.frame.DataFrame'>\n",
            "Int64Index: 11398 entries, 0 to 11551\n",
            "Data columns (total 85 columns):\n",
            " #   Column                  Non-Null Count  Dtype  \n",
            "---  ------                  --------------  -----  \n",
            " 0   Respondent              11398 non-null  int64  \n",
            " 1   MainBranch              11398 non-null  object \n",
            " 2   Hobbyist                11398 non-null  object \n",
            " 3   OpenSourcer             11398 non-null  object \n",
            " 4   OpenSource              11317 non-null  object \n",
            " 5   Employment              11398 non-null  object \n",
            " 6   Country                 11398 non-null  object \n",
            " 7   Student                 11347 non-null  object \n",
            " 8   EdLevel                 11286 non-null  object \n",
            " 9   UndergradMajor          10661 non-null  object \n",
            " 10  EduOther                11234 non-null  object \n",
            " 11  OrgSize                 11302 non-null  object \n",
            " 12  DevType                 11333 non-null  object \n",
            " 13  YearsCode               11389 non-null  object \n",
            " 14  Age1stCode              11385 non-null  object \n",
            " 15  YearsCodePro            11382 non-null  object \n",
            " 16  CareerSat               11398 non-null  object \n",
            " 17  JobSat                  11397 non-null  object \n",
            " 18  MgrIdiot                10905 non-null  object \n",
            " 19  MgrMoney                10901 non-null  object \n",
            " 20  MgrWant                 10905 non-null  object \n",
            " 21  JobSeek                 11398 non-null  object \n",
            " 22  LastHireDate            11398 non-null  object \n",
            " 23  LastInt                 10985 non-null  object \n",
            " 24  FizzBuzz                11361 non-null  object \n",
            " 25  JobFactors              11395 non-null  object \n",
            " 26  ResumeUpdate            11359 non-null  object \n",
            " 27  CurrencySymbol          11398 non-null  object \n",
            " 28  CurrencyDesc            11398 non-null  object \n",
            " 29  CompTotal               10589 non-null  float64\n",
            " 30  CompFreq                11192 non-null  object \n",
            " 31  ConvertedComp           10582 non-null  float64\n",
            " 32  WorkWeekHrs             11276 non-null  float64\n",
            " 33  WorkPlan                11277 non-null  object \n",
            " 34  WorkChallenge           11234 non-null  object \n",
            " 35  WorkRemote              11390 non-null  object \n",
            " 36  WorkLoc                 11366 non-null  object \n",
            " 37  ImpSyn                  11393 non-null  object \n",
            " 38  CodeRev                 11397 non-null  object \n",
            " 39  CodeRevHrs              8972 non-null   float64\n",
            " 40  UnitTests               11369 non-null  object \n",
            " 41  PurchaseHow             11202 non-null  object \n",
            " 42  PurchaseWhat            11360 non-null  object \n",
            " 43  LanguageWorkedWith      11387 non-null  object \n",
            " 44  LanguageDesireNextYear  11264 non-null  object \n",
            " 45  DatabaseWorkedWith      10945 non-null  object \n",
            " 46  DatabaseDesireNextYear  10356 non-null  object \n",
            " 47  PlatformWorkedWith      10987 non-null  object \n",
            " 48  PlatformDesireNextYear  10854 non-null  object \n",
            " 49  WebFrameWorkedWith      10005 non-null  object \n",
            " 50  WebFrameDesireNextYear  9781 non-null   object \n",
            " 51  MiscTechWorkedWith      9216 non-null   object \n",
            " 52  MiscTechDesireNextYear  9943 non-null   object \n",
            " 53  DevEnviron              11369 non-null  object \n",
            " 54  OpSys                   11364 non-null  object \n",
            " 55  Containers              11316 non-null  object \n",
            " 56  BlockchainOrg           9076 non-null   object \n",
            " 57  BlockchainIs            8788 non-null   object \n",
            " 58  BetterLife              11300 non-null  object \n",
            " 59  ITperson                11363 non-null  object \n",
            " 60  OffOn                   11360 non-null  object \n",
            " 61  SocialMedia             11105 non-null  object \n",
            " 62  Extraversion            11378 non-null  object \n",
            " 63  ScreenName              10891 non-null  object \n",
            " 64  SOVisit1st              11073 non-null  object \n",
            " 65  SOVisitFreq             11393 non-null  object \n",
            " 66  SOVisitTo               11397 non-null  object \n",
            " 67  SOFindAnswer            11395 non-null  object \n",
            " 68  SOTimeSaved             11348 non-null  object \n",
            " 69  SOHowMuchTime           9481 non-null   object \n",
            " 70  SOAccount               11397 non-null  object \n",
            " 71  SOPartFreq              10270 non-null  object \n",
            " 72  SOJobs                  11392 non-null  object \n",
            " 73  EntTeams                11393 non-null  object \n",
            " 74  SOComm                  11398 non-null  object \n",
            " 75  WelcomeChange           11313 non-null  object \n",
            " 76  SONewContent            9433 non-null   object \n",
            " 77  Age                     11111 non-null  float64\n",
            " 78  Gender                  11325 non-null  object \n",
            " 79  Trans                   11275 non-null  object \n",
            " 80  Sexuality               10856 non-null  object \n",
            " 81  Ethnicity               10723 non-null  object \n",
            " 82  Dependents              11258 non-null  object \n",
            " 83  SurveyLength            11379 non-null  object \n",
            " 84  SurveyEase              11384 non-null  object \n",
            "dtypes: float64(5), int64(1), object(79)\n",
            "memory usage: 7.5+ MB\n"
          ]
        }
      ],
      "source": [
        "# your code goes here\n",
        "df.info()\n"
      ]
    },
    {
      "cell_type": "markdown",
      "metadata": {
        "id": "FPuislDCMx9W"
      },
      "source": [
        "## Finding Missing values\n"
      ]
    },
    {
      "cell_type": "markdown",
      "metadata": {
        "id": "EjwKsbUwMx9W"
      },
      "source": [
        "Find the missing values for all columns.\n"
      ]
    },
    {
      "cell_type": "code",
      "execution_count": 12,
      "metadata": {
        "colab": {
          "base_uri": "https://localhost:8080/",
          "height": 488
        },
        "id": "eqpciewMMx9X",
        "outputId": "52d08144-289c-4a9e-ac23-071213aa8076"
      },
      "outputs": [
        {
          "output_type": "execute_result",
          "data": {
            "text/plain": [
              "       Respondent  MainBranch  Hobbyist  OpenSourcer  OpenSource  Employment  \\\n",
              "0           False       False     False        False       False       False   \n",
              "1           False       False     False        False       False       False   \n",
              "2           False       False     False        False       False       False   \n",
              "3           False       False     False        False       False       False   \n",
              "4           False       False     False        False       False       False   \n",
              "...           ...         ...       ...          ...         ...         ...   \n",
              "11547       False       False     False        False       False       False   \n",
              "11548       False       False     False        False       False       False   \n",
              "11549       False       False     False        False       False       False   \n",
              "11550       False       False     False        False       False       False   \n",
              "11551       False       False     False        False       False       False   \n",
              "\n",
              "       Country  Student  EdLevel  UndergradMajor  ...  WelcomeChange  \\\n",
              "0        False    False    False           False  ...          False   \n",
              "1        False    False    False           False  ...          False   \n",
              "2        False    False    False           False  ...          False   \n",
              "3        False    False    False            True  ...          False   \n",
              "4        False    False    False           False  ...          False   \n",
              "...        ...      ...      ...             ...  ...            ...   \n",
              "11547    False    False    False           False  ...          False   \n",
              "11548    False    False    False           False  ...          False   \n",
              "11549    False    False    False           False  ...          False   \n",
              "11550    False    False    False            True  ...          False   \n",
              "11551    False    False    False           False  ...          False   \n",
              "\n",
              "       SONewContent    Age  Gender  Trans  Sexuality  Ethnicity  Dependents  \\\n",
              "0             False  False   False  False      False      False       False   \n",
              "1              True  False   False  False      False      False       False   \n",
              "2             False  False   False  False      False      False       False   \n",
              "3             False  False   False  False      False      False       False   \n",
              "4             False  False   False  False      False      False       False   \n",
              "...             ...    ...     ...    ...        ...        ...         ...   \n",
              "11547         False  False   False  False      False      False       False   \n",
              "11548         False  False   False  False      False      False       False   \n",
              "11549         False  False   False  False      False      False       False   \n",
              "11550          True  False   False  False      False      False       False   \n",
              "11551         False  False   False  False      False      False       False   \n",
              "\n",
              "       SurveyLength  SurveyEase  \n",
              "0             False       False  \n",
              "1             False       False  \n",
              "2             False       False  \n",
              "3             False       False  \n",
              "4             False       False  \n",
              "...             ...         ...  \n",
              "11547         False       False  \n",
              "11548         False       False  \n",
              "11549         False       False  \n",
              "11550         False       False  \n",
              "11551         False       False  \n",
              "\n",
              "[11398 rows x 85 columns]"
            ],
            "text/html": [
              "\n",
              "  <div id=\"df-636f8700-663f-4655-8a51-ce8082077ab0\">\n",
              "    <div class=\"colab-df-container\">\n",
              "      <div>\n",
              "<style scoped>\n",
              "    .dataframe tbody tr th:only-of-type {\n",
              "        vertical-align: middle;\n",
              "    }\n",
              "\n",
              "    .dataframe tbody tr th {\n",
              "        vertical-align: top;\n",
              "    }\n",
              "\n",
              "    .dataframe thead th {\n",
              "        text-align: right;\n",
              "    }\n",
              "</style>\n",
              "<table border=\"1\" class=\"dataframe\">\n",
              "  <thead>\n",
              "    <tr style=\"text-align: right;\">\n",
              "      <th></th>\n",
              "      <th>Respondent</th>\n",
              "      <th>MainBranch</th>\n",
              "      <th>Hobbyist</th>\n",
              "      <th>OpenSourcer</th>\n",
              "      <th>OpenSource</th>\n",
              "      <th>Employment</th>\n",
              "      <th>Country</th>\n",
              "      <th>Student</th>\n",
              "      <th>EdLevel</th>\n",
              "      <th>UndergradMajor</th>\n",
              "      <th>...</th>\n",
              "      <th>WelcomeChange</th>\n",
              "      <th>SONewContent</th>\n",
              "      <th>Age</th>\n",
              "      <th>Gender</th>\n",
              "      <th>Trans</th>\n",
              "      <th>Sexuality</th>\n",
              "      <th>Ethnicity</th>\n",
              "      <th>Dependents</th>\n",
              "      <th>SurveyLength</th>\n",
              "      <th>SurveyEase</th>\n",
              "    </tr>\n",
              "  </thead>\n",
              "  <tbody>\n",
              "    <tr>\n",
              "      <th>0</th>\n",
              "      <td>False</td>\n",
              "      <td>False</td>\n",
              "      <td>False</td>\n",
              "      <td>False</td>\n",
              "      <td>False</td>\n",
              "      <td>False</td>\n",
              "      <td>False</td>\n",
              "      <td>False</td>\n",
              "      <td>False</td>\n",
              "      <td>False</td>\n",
              "      <td>...</td>\n",
              "      <td>False</td>\n",
              "      <td>False</td>\n",
              "      <td>False</td>\n",
              "      <td>False</td>\n",
              "      <td>False</td>\n",
              "      <td>False</td>\n",
              "      <td>False</td>\n",
              "      <td>False</td>\n",
              "      <td>False</td>\n",
              "      <td>False</td>\n",
              "    </tr>\n",
              "    <tr>\n",
              "      <th>1</th>\n",
              "      <td>False</td>\n",
              "      <td>False</td>\n",
              "      <td>False</td>\n",
              "      <td>False</td>\n",
              "      <td>False</td>\n",
              "      <td>False</td>\n",
              "      <td>False</td>\n",
              "      <td>False</td>\n",
              "      <td>False</td>\n",
              "      <td>False</td>\n",
              "      <td>...</td>\n",
              "      <td>False</td>\n",
              "      <td>True</td>\n",
              "      <td>False</td>\n",
              "      <td>False</td>\n",
              "      <td>False</td>\n",
              "      <td>False</td>\n",
              "      <td>False</td>\n",
              "      <td>False</td>\n",
              "      <td>False</td>\n",
              "      <td>False</td>\n",
              "    </tr>\n",
              "    <tr>\n",
              "      <th>2</th>\n",
              "      <td>False</td>\n",
              "      <td>False</td>\n",
              "      <td>False</td>\n",
              "      <td>False</td>\n",
              "      <td>False</td>\n",
              "      <td>False</td>\n",
              "      <td>False</td>\n",
              "      <td>False</td>\n",
              "      <td>False</td>\n",
              "      <td>False</td>\n",
              "      <td>...</td>\n",
              "      <td>False</td>\n",
              "      <td>False</td>\n",
              "      <td>False</td>\n",
              "      <td>False</td>\n",
              "      <td>False</td>\n",
              "      <td>False</td>\n",
              "      <td>False</td>\n",
              "      <td>False</td>\n",
              "      <td>False</td>\n",
              "      <td>False</td>\n",
              "    </tr>\n",
              "    <tr>\n",
              "      <th>3</th>\n",
              "      <td>False</td>\n",
              "      <td>False</td>\n",
              "      <td>False</td>\n",
              "      <td>False</td>\n",
              "      <td>False</td>\n",
              "      <td>False</td>\n",
              "      <td>False</td>\n",
              "      <td>False</td>\n",
              "      <td>False</td>\n",
              "      <td>True</td>\n",
              "      <td>...</td>\n",
              "      <td>False</td>\n",
              "      <td>False</td>\n",
              "      <td>False</td>\n",
              "      <td>False</td>\n",
              "      <td>False</td>\n",
              "      <td>False</td>\n",
              "      <td>False</td>\n",
              "      <td>False</td>\n",
              "      <td>False</td>\n",
              "      <td>False</td>\n",
              "    </tr>\n",
              "    <tr>\n",
              "      <th>4</th>\n",
              "      <td>False</td>\n",
              "      <td>False</td>\n",
              "      <td>False</td>\n",
              "      <td>False</td>\n",
              "      <td>False</td>\n",
              "      <td>False</td>\n",
              "      <td>False</td>\n",
              "      <td>False</td>\n",
              "      <td>False</td>\n",
              "      <td>False</td>\n",
              "      <td>...</td>\n",
              "      <td>False</td>\n",
              "      <td>False</td>\n",
              "      <td>False</td>\n",
              "      <td>False</td>\n",
              "      <td>False</td>\n",
              "      <td>False</td>\n",
              "      <td>False</td>\n",
              "      <td>False</td>\n",
              "      <td>False</td>\n",
              "      <td>False</td>\n",
              "    </tr>\n",
              "    <tr>\n",
              "      <th>...</th>\n",
              "      <td>...</td>\n",
              "      <td>...</td>\n",
              "      <td>...</td>\n",
              "      <td>...</td>\n",
              "      <td>...</td>\n",
              "      <td>...</td>\n",
              "      <td>...</td>\n",
              "      <td>...</td>\n",
              "      <td>...</td>\n",
              "      <td>...</td>\n",
              "      <td>...</td>\n",
              "      <td>...</td>\n",
              "      <td>...</td>\n",
              "      <td>...</td>\n",
              "      <td>...</td>\n",
              "      <td>...</td>\n",
              "      <td>...</td>\n",
              "      <td>...</td>\n",
              "      <td>...</td>\n",
              "      <td>...</td>\n",
              "      <td>...</td>\n",
              "    </tr>\n",
              "    <tr>\n",
              "      <th>11547</th>\n",
              "      <td>False</td>\n",
              "      <td>False</td>\n",
              "      <td>False</td>\n",
              "      <td>False</td>\n",
              "      <td>False</td>\n",
              "      <td>False</td>\n",
              "      <td>False</td>\n",
              "      <td>False</td>\n",
              "      <td>False</td>\n",
              "      <td>False</td>\n",
              "      <td>...</td>\n",
              "      <td>False</td>\n",
              "      <td>False</td>\n",
              "      <td>False</td>\n",
              "      <td>False</td>\n",
              "      <td>False</td>\n",
              "      <td>False</td>\n",
              "      <td>False</td>\n",
              "      <td>False</td>\n",
              "      <td>False</td>\n",
              "      <td>False</td>\n",
              "    </tr>\n",
              "    <tr>\n",
              "      <th>11548</th>\n",
              "      <td>False</td>\n",
              "      <td>False</td>\n",
              "      <td>False</td>\n",
              "      <td>False</td>\n",
              "      <td>False</td>\n",
              "      <td>False</td>\n",
              "      <td>False</td>\n",
              "      <td>False</td>\n",
              "      <td>False</td>\n",
              "      <td>False</td>\n",
              "      <td>...</td>\n",
              "      <td>False</td>\n",
              "      <td>False</td>\n",
              "      <td>False</td>\n",
              "      <td>False</td>\n",
              "      <td>False</td>\n",
              "      <td>False</td>\n",
              "      <td>False</td>\n",
              "      <td>False</td>\n",
              "      <td>False</td>\n",
              "      <td>False</td>\n",
              "    </tr>\n",
              "    <tr>\n",
              "      <th>11549</th>\n",
              "      <td>False</td>\n",
              "      <td>False</td>\n",
              "      <td>False</td>\n",
              "      <td>False</td>\n",
              "      <td>False</td>\n",
              "      <td>False</td>\n",
              "      <td>False</td>\n",
              "      <td>False</td>\n",
              "      <td>False</td>\n",
              "      <td>False</td>\n",
              "      <td>...</td>\n",
              "      <td>False</td>\n",
              "      <td>False</td>\n",
              "      <td>False</td>\n",
              "      <td>False</td>\n",
              "      <td>False</td>\n",
              "      <td>False</td>\n",
              "      <td>False</td>\n",
              "      <td>False</td>\n",
              "      <td>False</td>\n",
              "      <td>False</td>\n",
              "    </tr>\n",
              "    <tr>\n",
              "      <th>11550</th>\n",
              "      <td>False</td>\n",
              "      <td>False</td>\n",
              "      <td>False</td>\n",
              "      <td>False</td>\n",
              "      <td>False</td>\n",
              "      <td>False</td>\n",
              "      <td>False</td>\n",
              "      <td>False</td>\n",
              "      <td>False</td>\n",
              "      <td>True</td>\n",
              "      <td>...</td>\n",
              "      <td>False</td>\n",
              "      <td>True</td>\n",
              "      <td>False</td>\n",
              "      <td>False</td>\n",
              "      <td>False</td>\n",
              "      <td>False</td>\n",
              "      <td>False</td>\n",
              "      <td>False</td>\n",
              "      <td>False</td>\n",
              "      <td>False</td>\n",
              "    </tr>\n",
              "    <tr>\n",
              "      <th>11551</th>\n",
              "      <td>False</td>\n",
              "      <td>False</td>\n",
              "      <td>False</td>\n",
              "      <td>False</td>\n",
              "      <td>False</td>\n",
              "      <td>False</td>\n",
              "      <td>False</td>\n",
              "      <td>False</td>\n",
              "      <td>False</td>\n",
              "      <td>False</td>\n",
              "      <td>...</td>\n",
              "      <td>False</td>\n",
              "      <td>False</td>\n",
              "      <td>False</td>\n",
              "      <td>False</td>\n",
              "      <td>False</td>\n",
              "      <td>False</td>\n",
              "      <td>False</td>\n",
              "      <td>False</td>\n",
              "      <td>False</td>\n",
              "      <td>False</td>\n",
              "    </tr>\n",
              "  </tbody>\n",
              "</table>\n",
              "<p>11398 rows × 85 columns</p>\n",
              "</div>\n",
              "      <button class=\"colab-df-convert\" onclick=\"convertToInteractive('df-636f8700-663f-4655-8a51-ce8082077ab0')\"\n",
              "              title=\"Convert this dataframe to an interactive table.\"\n",
              "              style=\"display:none;\">\n",
              "        \n",
              "  <svg xmlns=\"http://www.w3.org/2000/svg\" height=\"24px\"viewBox=\"0 0 24 24\"\n",
              "       width=\"24px\">\n",
              "    <path d=\"M0 0h24v24H0V0z\" fill=\"none\"/>\n",
              "    <path d=\"M18.56 5.44l.94 2.06.94-2.06 2.06-.94-2.06-.94-.94-2.06-.94 2.06-2.06.94zm-11 1L8.5 8.5l.94-2.06 2.06-.94-2.06-.94L8.5 2.5l-.94 2.06-2.06.94zm10 10l.94 2.06.94-2.06 2.06-.94-2.06-.94-.94-2.06-.94 2.06-2.06.94z\"/><path d=\"M17.41 7.96l-1.37-1.37c-.4-.4-.92-.59-1.43-.59-.52 0-1.04.2-1.43.59L10.3 9.45l-7.72 7.72c-.78.78-.78 2.05 0 2.83L4 21.41c.39.39.9.59 1.41.59.51 0 1.02-.2 1.41-.59l7.78-7.78 2.81-2.81c.8-.78.8-2.07 0-2.86zM5.41 20L4 18.59l7.72-7.72 1.47 1.35L5.41 20z\"/>\n",
              "  </svg>\n",
              "      </button>\n",
              "      \n",
              "  <style>\n",
              "    .colab-df-container {\n",
              "      display:flex;\n",
              "      flex-wrap:wrap;\n",
              "      gap: 12px;\n",
              "    }\n",
              "\n",
              "    .colab-df-convert {\n",
              "      background-color: #E8F0FE;\n",
              "      border: none;\n",
              "      border-radius: 50%;\n",
              "      cursor: pointer;\n",
              "      display: none;\n",
              "      fill: #1967D2;\n",
              "      height: 32px;\n",
              "      padding: 0 0 0 0;\n",
              "      width: 32px;\n",
              "    }\n",
              "\n",
              "    .colab-df-convert:hover {\n",
              "      background-color: #E2EBFA;\n",
              "      box-shadow: 0px 1px 2px rgba(60, 64, 67, 0.3), 0px 1px 3px 1px rgba(60, 64, 67, 0.15);\n",
              "      fill: #174EA6;\n",
              "    }\n",
              "\n",
              "    [theme=dark] .colab-df-convert {\n",
              "      background-color: #3B4455;\n",
              "      fill: #D2E3FC;\n",
              "    }\n",
              "\n",
              "    [theme=dark] .colab-df-convert:hover {\n",
              "      background-color: #434B5C;\n",
              "      box-shadow: 0px 1px 3px 1px rgba(0, 0, 0, 0.15);\n",
              "      filter: drop-shadow(0px 1px 2px rgba(0, 0, 0, 0.3));\n",
              "      fill: #FFFFFF;\n",
              "    }\n",
              "  </style>\n",
              "\n",
              "      <script>\n",
              "        const buttonEl =\n",
              "          document.querySelector('#df-636f8700-663f-4655-8a51-ce8082077ab0 button.colab-df-convert');\n",
              "        buttonEl.style.display =\n",
              "          google.colab.kernel.accessAllowed ? 'block' : 'none';\n",
              "\n",
              "        async function convertToInteractive(key) {\n",
              "          const element = document.querySelector('#df-636f8700-663f-4655-8a51-ce8082077ab0');\n",
              "          const dataTable =\n",
              "            await google.colab.kernel.invokeFunction('convertToInteractive',\n",
              "                                                     [key], {});\n",
              "          if (!dataTable) return;\n",
              "\n",
              "          const docLinkHtml = 'Like what you see? Visit the ' +\n",
              "            '<a target=\"_blank\" href=https://colab.research.google.com/notebooks/data_table.ipynb>data table notebook</a>'\n",
              "            + ' to learn more about interactive tables.';\n",
              "          element.innerHTML = '';\n",
              "          dataTable['output_type'] = 'display_data';\n",
              "          await google.colab.output.renderOutput(dataTable, element);\n",
              "          const docLink = document.createElement('div');\n",
              "          docLink.innerHTML = docLinkHtml;\n",
              "          element.appendChild(docLink);\n",
              "        }\n",
              "      </script>\n",
              "    </div>\n",
              "  </div>\n",
              "  "
            ]
          },
          "metadata": {},
          "execution_count": 12
        }
      ],
      "source": [
        "# your code goes here\n",
        "df.isnull()"
      ]
    },
    {
      "cell_type": "markdown",
      "metadata": {
        "id": "B4BcPu3tMx9X"
      },
      "source": [
        "Find out how many rows are missing in the column 'WorkLoc'\n"
      ]
    },
    {
      "cell_type": "code",
      "execution_count": 32,
      "metadata": {
        "colab": {
          "base_uri": "https://localhost:8080/"
        },
        "id": "uOxy8JEjMx9X",
        "outputId": "6491458e-ffc8-4c4b-c1ec-5bdc30596fcb"
      },
      "outputs": [
        {
          "output_type": "execute_result",
          "data": {
            "text/plain": [
              "32"
            ]
          },
          "metadata": {},
          "execution_count": 32
        }
      ],
      "source": [
        "# your code goes here\n",
        "df[\"WorkLoc\"].isnull().sum()"
      ]
    },
    {
      "cell_type": "markdown",
      "metadata": {
        "id": "UeLUMTMPMx9X"
      },
      "source": [
        "## Imputing missing values\n"
      ]
    },
    {
      "cell_type": "markdown",
      "metadata": {
        "id": "R0LNUwwVMx9Y"
      },
      "source": [
        "Find the  value counts for the column WorkLoc.\n"
      ]
    },
    {
      "cell_type": "code",
      "execution_count": 33,
      "metadata": {
        "colab": {
          "base_uri": "https://localhost:8080/"
        },
        "id": "ny76EHHjMx9Y",
        "outputId": "d17eb7c5-a94d-4212-a564-a95a165e47d4"
      },
      "outputs": [
        {
          "output_type": "execute_result",
          "data": {
            "text/plain": [
              "Office                                            6806\n",
              "Home                                              3589\n",
              "Other place, such as a coworking space or cafe     971\n",
              "Name: WorkLoc, dtype: int64"
            ]
          },
          "metadata": {},
          "execution_count": 33
        }
      ],
      "source": [
        "# your code goes here\n",
        "df[\"WorkLoc\"].value_counts()"
      ]
    },
    {
      "cell_type": "markdown",
      "metadata": {
        "id": "aNRDS34tMx9Y"
      },
      "source": [
        "Identify the value that is most frequent (majority) in the WorkLoc column.\n"
      ]
    },
    {
      "cell_type": "code",
      "execution_count": null,
      "metadata": {
        "id": "K1-LhmrJMx9Y"
      },
      "outputs": [],
      "source": [
        "#make a note of the majority value here, for future reference\n",
        "#"
      ]
    },
    {
      "cell_type": "markdown",
      "metadata": {
        "id": "UJ7j-wdNMx9Y"
      },
      "source": [
        "Impute (replace) all the empty rows in the column WorkLoc with the value that you have identified as majority.\n"
      ]
    },
    {
      "cell_type": "code",
      "execution_count": 34,
      "metadata": {
        "id": "VY4m7G34Mx9Z"
      },
      "outputs": [],
      "source": [
        "# your code goes here\n",
        "df[\"WorkLoc\"].fillna(value=\"Office\",inplace=True)"
      ]
    },
    {
      "cell_type": "markdown",
      "metadata": {
        "id": "THbrqF5cMx9Z"
      },
      "source": [
        "After imputation there should ideally not be any empty rows in the WorkLoc column.\n"
      ]
    },
    {
      "cell_type": "markdown",
      "metadata": {
        "id": "2sC5fYBFMx9Z"
      },
      "source": [
        "Verify if imputing was successful.\n"
      ]
    },
    {
      "cell_type": "code",
      "execution_count": 35,
      "metadata": {
        "colab": {
          "base_uri": "https://localhost:8080/"
        },
        "id": "qYS24sbpMx9Z",
        "outputId": "216e3f2d-d626-4e4d-ad42-a3a37150fa3c"
      },
      "outputs": [
        {
          "output_type": "execute_result",
          "data": {
            "text/plain": [
              "0"
            ]
          },
          "metadata": {},
          "execution_count": 35
        }
      ],
      "source": [
        "# your code goes here\n",
        "df['WorkLoc'].isnull().sum()"
      ]
    },
    {
      "cell_type": "markdown",
      "metadata": {
        "id": "9wvuEgktMx9Z"
      },
      "source": [
        "## Normalizing data\n"
      ]
    },
    {
      "cell_type": "markdown",
      "metadata": {
        "id": "FSbdssQUMx9Z"
      },
      "source": [
        "There are two columns in the dataset that talk about compensation.\n",
        "\n",
        "One is \"CompFreq\". This column shows how often a developer is paid (Yearly, Monthly, Weekly).\n",
        "\n",
        "The other is \"CompTotal\". This column talks about how much the developer is paid per Year, Month, or Week depending upon his/her \"CompFreq\". \n",
        "\n",
        "This makes it difficult to compare the total compensation of the developers.\n",
        "\n",
        "In this section you will create a new column called 'NormalizedAnnualCompensation' which contains the 'Annual Compensation' irrespective of the 'CompFreq'.\n",
        "\n",
        "Once this column is ready, it makes comparison of salaries easy.\n"
      ]
    },
    {
      "cell_type": "markdown",
      "metadata": {
        "id": "NAvDu6XGMx9a"
      },
      "source": [
        "<hr>\n"
      ]
    },
    {
      "cell_type": "markdown",
      "metadata": {
        "id": "NHX-JZbwMx9a"
      },
      "source": [
        "List out the various categories in the column 'CompFreq'\n"
      ]
    },
    {
      "cell_type": "code",
      "execution_count": 36,
      "metadata": {
        "colab": {
          "base_uri": "https://localhost:8080/"
        },
        "id": "F4SCoekiMx9a",
        "outputId": "0cf43700-bf62-4746-cd55-9d9b10eea271"
      },
      "outputs": [
        {
          "output_type": "execute_result",
          "data": {
            "text/plain": [
              "array(['Yearly', 'Monthly', 'Weekly', nan], dtype=object)"
            ]
          },
          "metadata": {},
          "execution_count": 36
        }
      ],
      "source": [
        "# your code goes here\n",
        "df[\"CompFreq\"].unique()"
      ]
    },
    {
      "cell_type": "markdown",
      "metadata": {
        "id": "68i2PlcDMx9a"
      },
      "source": [
        "Create a new column named 'NormalizedAnnualCompensation'. Use the hint given below if needed.\n"
      ]
    },
    {
      "cell_type": "markdown",
      "metadata": {
        "id": "C5Uj2kyrMx9a"
      },
      "source": [
        "Double click to see the **Hint**.\n",
        "\n",
        "<!--\n",
        "\n",
        "Use the below logic to arrive at the values for the column NormalizedAnnualCompensation.\n",
        "\n",
        "If the CompFreq is Yearly then use the exising value in CompTotal\n",
        "If the CompFreq is Monthly then multiply the value in CompTotal with 12 (months in an year)\n",
        "If the CompFreq is Weekly then multiply the value in CompTotal with 52 (weeks in an year)\n",
        "\n",
        "-->\n"
      ]
    },
    {
      "cell_type": "code",
      "execution_count": 37,
      "metadata": {
        "id": "eTU5tWOqMx9b"
      },
      "outputs": [],
      "source": [
        "# your code goes here\n",
        "df[\"CompFreq\"].replace(to_replace=\"Yearly\",value=1,inplace=True)\n",
        "df[\"CompFreq\"].replace(to_replace=\"Monthly\",value=12,inplace=True)\n",
        "df[\"CompFreq\"].replace(to_replace=\"Weekly\",value=52,inplace=True)"
      ]
    },
    {
      "cell_type": "code",
      "source": [
        "df[\"CompFreq\"].unique()"
      ],
      "metadata": {
        "colab": {
          "base_uri": "https://localhost:8080/"
        },
        "id": "gZoCpIPEQvVE",
        "outputId": "914479ae-045d-441d-9e1d-1bf63bc4a628"
      },
      "execution_count": 38,
      "outputs": [
        {
          "output_type": "execute_result",
          "data": {
            "text/plain": [
              "array([ 1., 12., 52., nan])"
            ]
          },
          "metadata": {},
          "execution_count": 38
        }
      ]
    },
    {
      "cell_type": "code",
      "source": [
        "df[\"CompFreq\"].value_counts()"
      ],
      "metadata": {
        "colab": {
          "base_uri": "https://localhost:8080/"
        },
        "id": "QJMidI-pQvYo",
        "outputId": "fe91dd5f-25f7-4ca7-a1cd-a8c6c7c6b720"
      },
      "execution_count": 39,
      "outputs": [
        {
          "output_type": "execute_result",
          "data": {
            "text/plain": [
              "1.0     6073\n",
              "12.0    4788\n",
              "52.0     331\n",
              "Name: CompFreq, dtype: int64"
            ]
          },
          "metadata": {},
          "execution_count": 39
        }
      ]
    },
    {
      "cell_type": "code",
      "source": [
        "df['NormalizedAnnualCompensation'] = df[\"CompTotal\"] * df[\"CompFreq\"]"
      ],
      "metadata": {
        "id": "JlM4C4XGQ0Qu"
      },
      "execution_count": 40,
      "outputs": []
    },
    {
      "cell_type": "code",
      "source": [
        "df['NormalizedAnnualCompensation'].median()"
      ],
      "metadata": {
        "colab": {
          "base_uri": "https://localhost:8080/"
        },
        "id": "QeSbRZSOQ3Le",
        "outputId": "d1b4580f-815f-437d-fbc0-bc07748f6186"
      },
      "execution_count": 41,
      "outputs": [
        {
          "output_type": "execute_result",
          "data": {
            "text/plain": [
              "100000.0"
            ]
          },
          "metadata": {},
          "execution_count": 41
        }
      ]
    },
    {
      "cell_type": "markdown",
      "metadata": {
        "id": "PU98mzEBMx9b"
      },
      "source": [
        "## Authors\n"
      ]
    },
    {
      "cell_type": "markdown",
      "metadata": {
        "id": "OtdAqHi2Mx9b"
      },
      "source": [
        "Ramesh Sannareddy\n"
      ]
    },
    {
      "cell_type": "markdown",
      "metadata": {
        "id": "nFHgPNsCMx9c"
      },
      "source": [
        "### Other Contributors\n"
      ]
    },
    {
      "cell_type": "markdown",
      "metadata": {
        "id": "ezNPSr80Mx9c"
      },
      "source": [
        "Rav Ahuja\n"
      ]
    },
    {
      "cell_type": "markdown",
      "metadata": {
        "id": "GSxglhM9Mx9c"
      },
      "source": [
        "## Change Log\n"
      ]
    },
    {
      "cell_type": "markdown",
      "metadata": {
        "id": "RFLDEPh3Mx9c"
      },
      "source": [
        "| Date (YYYY-MM-DD) | Version | Changed By        | Change Description                 |\n",
        "| ----------------- | ------- | ----------------- | ---------------------------------- |\n",
        "| 2020-10-17        | 0.1     | Ramesh Sannareddy | Created initial version of the lab |\n"
      ]
    },
    {
      "cell_type": "markdown",
      "metadata": {
        "id": "-sDarvF9Mx9c"
      },
      "source": [
        " Copyright © 2020 IBM Corporation. This notebook and its source code are released under the terms of the [MIT License](https://cognitiveclass.ai/mit-license?utm_medium=Exinfluencer&utm_source=Exinfluencer&utm_content=000026UJ&utm_term=10006555&utm_id=NA-SkillsNetwork-Channel-SkillsNetworkCoursesIBMDA0321ENSkillsNetwork928-2022-01-01&cm_mmc=Email_Newsletter-_-Developer_Ed%2BTech-_-WW_WW-_-SkillsNetwork-Courses-IBM-DA0321EN-SkillsNetwork-21426264&cm_mmca1=000026UJ&cm_mmca2=10006555&cm_mmca3=M12345678&cvosrc=email.Newsletter.M12345678&cvo_campaign=000026UJ).\n"
      ]
    }
  ],
  "metadata": {
    "kernelspec": {
      "display_name": "Python",
      "language": "python",
      "name": "conda-env-python-py"
    },
    "language_info": {
      "name": ""
    },
    "colab": {
      "provenance": []
    }
  },
  "nbformat": 4,
  "nbformat_minor": 0
}